{
 "cells": [
  {
   "cell_type": "code",
   "execution_count": 2,
   "metadata": {
    "collapsed": false
   },
   "outputs": [
    {
     "name": "stderr",
     "output_type": "stream",
     "text": [
      "/shared/users/asousa/software/python2/lib/python2.7/site-packages/matplotlib/__init__.py:878: UserWarning: text.fontsize is deprecated and replaced with font.size; please use the latter.\n",
      "  warnings.warn(self.msg_depr % (key, alt_key))\n"
     ]
    }
   ],
   "source": [
    "import numpy as np\n",
    "import pandas as pd\n",
    "import pickle\n",
    "#from build_database import flux_obj\n",
    "from scipy import interpolate\n",
    "import matplotlib.pyplot as plt\n",
    "import os\n",
    "import itertools\n",
    "import random\n",
    "import os\n",
    "import time\n",
    "import datetime as dt\n",
    "\n",
    "from spacepy import coordinates as coord\n",
    "from spacepy.time import Ticktock\n",
    "\n",
    "from raytracer_utils import readdump, read_rayfile\n",
    "from mpl_toolkits.mplot3d import Axes3D\n",
    "#%matplotlib inline\n",
    "%matplotlib nbagg\n",
    "# Autoload changes made in external editor:\n",
    "%load_ext autoreload\n",
    "%autoreload 2\n",
    "# --------------- Latex Plot Beautification --------------------------\n",
    "fig_width_pt = 650.0  # Get this from LaTeX using \\showthe\\columnwidth\n",
    "inches_per_pt = 1.0/72.27               # Convert pt to inch\n",
    "golden_mean = (np.sqrt(5)-1.0)/2.0         # Aesthetic ratio\n",
    "fig_width = fig_width_pt*inches_per_pt  # width in inches\n",
    "fig_height = fig_width*golden_mean      # height in inches\n",
    "fig_size =  [fig_width+1,fig_height+1]\n",
    "params = {'backend': 'ps',\n",
    "          'axes.labelsize': 20,\n",
    "          'text.fontsize': 16,\n",
    "          'legend.fontsize': 14,\n",
    "          'xtick.labelsize': 14,\n",
    "          'ytick.labelsize': 14,\n",
    "          'text.usetex': False,\n",
    "          'figure.figsize': fig_size}\n",
    "plt.rcParams.update(params)\n",
    "\n",
    "\n",
    "# --------------- Latex Plot Beautification --------------------------"
   ]
  },
  {
   "cell_type": "code",
   "execution_count": 156,
   "metadata": {
    "collapsed": false,
    "scrolled": false
   },
   "outputs": [
    {
     "name": "stdout",
     "output_type": "stream",
     "text": [
      "()\n"
     ]
    },
    {
     "ename": "AttributeError",
     "evalue": "'NoneType' object has no attribute 'reshape'",
     "output_type": "error",
     "traceback": [
      "\u001b[1;31m---------------------------------------------------------------------------\u001b[0m",
      "\u001b[1;31mAttributeError\u001b[0m                            Traceback (most recent call last)",
      "\u001b[1;32m<ipython-input-156-7fd01ac69686>\u001b[0m in \u001b[0;36m<module>\u001b[1;34m()\u001b[0m\n\u001b[0;32m     30\u001b[0m \u001b[1;33m\u001b[0m\u001b[0m\n\u001b[0;32m     31\u001b[0m \u001b[1;33m\u001b[0m\u001b[0m\n\u001b[1;32m---> 32\u001b[1;33m \u001b[0mpN\u001b[0m \u001b[1;33m=\u001b[0m \u001b[0mpN\u001b[0m\u001b[1;33m.\u001b[0m\u001b[0mreshape\u001b[0m\u001b[1;33m(\u001b[0m\u001b[0mNUM_E\u001b[0m\u001b[1;33m,\u001b[0m \u001b[0mNUM_TIMES\u001b[0m\u001b[1;33m)\u001b[0m\u001b[1;33m\u001b[0m\u001b[0m\n\u001b[0m\u001b[0;32m     33\u001b[0m \u001b[0mpS\u001b[0m \u001b[1;33m=\u001b[0m \u001b[0mpS\u001b[0m\u001b[1;33m.\u001b[0m\u001b[0mreshape\u001b[0m\u001b[1;33m(\u001b[0m\u001b[0mNUM_E\u001b[0m\u001b[1;33m,\u001b[0m \u001b[0mNUM_TIMES\u001b[0m\u001b[1;33m)\u001b[0m\u001b[1;33m\u001b[0m\u001b[0m\n\u001b[0;32m     34\u001b[0m \u001b[1;33m\u001b[0m\u001b[0m\n",
      "\u001b[1;31mAttributeError\u001b[0m: 'NoneType' object has no attribute 'reshape'"
     ]
    }
   ],
   "source": [
    "out_dir   = '../outputs/test_WIPP_outs/'\n",
    "out_lat   = 30\n",
    "out_lon   = 0\n",
    "out_freq  = 450\n",
    "\n",
    "N_filename = os.path.join(out_dir, \"pN_%d_%d_%d.dat\"%(out_lat, out_lon, out_freq))\n",
    "S_filename = os.path.join(out_dir, \"pS_%d_%d_%d.dat\"%(out_lat, out_lon, out_freq))\n",
    "NUM_E = 512;\n",
    "NUM_TIMES = 1000;\n",
    "T_MAX = 10\n",
    "T_STEP = np.floor(T_MAX/NUM_TIMES)\n",
    "E_MIN = 1e1\n",
    "E_MAX = 1e8\n",
    "NUM_E = 512\n",
    "E_EXP_TOP = np.log10(E_MAX)\n",
    "E_EXP_BOT = np.log10(E_MIN)\n",
    "DE_EXP = ((E_EXP_TOP - E_EXP_BOT)/(NUM_E))\n",
    "\n",
    "tvec = np.linspace(T_STEP,T_MAX,NUM_TIMES)\n",
    "E_tot_arr = pow(10, (E_EXP_BOT + DE_EXP*np.arange(NUM_E)) ) # energy in eV\n",
    "\n",
    "\n",
    "clims =[-7, 0]\n",
    "\n",
    "# pN, pS = sum_p_files(out_dir, out_lat, out_lon)\n",
    "# pN = np.loadtxt(N_filename)\n",
    "# pS = np.loadtxt(S_filename)\n",
    "\n",
    "print np.shape(pS)\n",
    "\n",
    "\n",
    "pN = pN.reshape(NUM_E, NUM_TIMES)\n",
    "pS = pS.reshape(NUM_E, NUM_TIMES)\n",
    "\n",
    "pN_P = np.log10(np.sqrt(pN))\n",
    "np.clip(pN_P,clims[0],clims[1],out=pN_P)\n",
    "\n",
    "pS_P = np.log10(np.sqrt(pS))\n",
    "np.clip(pS_P,clims[0],clims[1],out=pS_P)\n",
    "\n",
    "fig = plt.figure()\n",
    "ax1 = fig.add_subplot(211)\n",
    "ax2 = fig.add_subplot(212)\n",
    "\n",
    "p1 = ax1.imshow(pN_P,origin='lower',aspect='auto', interpolation='none')\n",
    "p1.set_clim(clims)\n",
    "p2 = ax2.imshow(pS_P,origin='lower',aspect='auto', interpolation='none')\n",
    "p2.set_clim(clims)\n",
    " \n",
    "cax = fig.add_axes([0.92, 0.12, 0.025, 0.78])\n",
    "fig.colorbar(p1,cax=cax)\n",
    "# Label axes\n",
    "\n",
    "tlabels = np.arange(1,np.floor(T_MAX))\n",
    "tinds =  [np.argmax(tt <= tvec) for tt in tlabels]\n",
    "ax2.set_xticks(tinds)\n",
    "tlabel_strings = ['%d'%k for k in tlabels]\n",
    "ax2.set_xticklabels(tlabel_strings)\n",
    "\n",
    "\n",
    "ax1.get_xaxis().set_visible(False)\n",
    "#     ax2.set_xticks(np.floor(np.linspace(0,sc.NUM_STEPS-1,sc.T_MAX + 1)))\n",
    "#     ax2.set_xticklabels(np.floor(tvec[ax2.get_xticks().astype(int)]))\n",
    "\n",
    "# Label each power of 10\n",
    "logvals = np.arange(np.log10(E_MIN), np.log10(E_MAX)+1)\n",
    "einds =  [np.argmax(lv <= np.log10(E_tot_arr)) for lv in logvals]\n",
    "einds[-1] = NUM_E - 1 \n",
    "\n",
    "ylabel_strings = ['$10^%d$'%k for k in logvals]\n",
    "ax1.set_yticks(einds)\n",
    "ax1.set_yticklabels(ylabel_strings)\n",
    "ax1.set_ylabel('Energy (eV)\\nNorth')\n",
    "ax2.set_yticks(einds)\n",
    "ax2.set_yticklabels(ylabel_strings)\n",
    "ax2.set_ylabel('Energy (eV)\\nSouth')\n",
    "ax2.set_xlabel('Time (sec)')\n",
    "fig.suptitle('Pitch-angle change at (%d, %d) (deg)'%(out_lat, out_lon))\n",
    "print \"Max N (deg): \", np.max((180./np.pi)*np.sqrt(pN))\n",
    "print \"Max S (deg): \", np.max((180./np.pi)*np.sqrt(pS))\n",
    "\n",
    "# print np.max(pS_P)\n",
    "# print np.min(pS_P)\n",
    "# print np.max(pS)\n",
    "print sum(sum((pN!=0)))"
   ]
  },
  {
   "cell_type": "code",
   "execution_count": 113,
   "metadata": {
    "collapsed": false
   },
   "outputs": [
    {
     "name": "stdout",
     "output_type": "stream",
     "text": [
      "[   200.    240.    280.    320.    380.    450.    530.    620.    730.\n",
      "    860.   1010.   1180.   1390.   1640.   1920.   2260.   2660.   3120.\n",
      "   3670.   4310.   5070.   5960.   7000.   8230.   9680.  11370.  13370.\n",
      "  15720.  18470.  21710.  25520.  30000.]\n"
     ]
    }
   ],
   "source": [
    "f1 = 200; f2 = 30000;\n",
    "flogs = np.linspace(np.log10(f1), np.log10(f2), 32)\n",
    "flins = np.round(pow(10, flogs)/10.)*10\n",
    "print flins"
   ]
  },
  {
   "cell_type": "code",
   "execution_count": 141,
   "metadata": {
    "collapsed": false
   },
   "outputs": [
    {
     "name": "stdout",
     "output_type": "stream",
     "text": [
      "loading pN_50_0_380.dat\n",
      "loading pN_50_0_1390.dat\n",
      "loading pN_50_0_730.dat\n",
      "loading pN_50_0_280.dat\n",
      "loading pN_50_0_200.dat\n",
      "loading pN_50_0_860.dat\n",
      "loading pN_50_0_320.dat\n",
      "loading pN_50_0_450.dat\n",
      "loading pN_50_0_1180.dat\n",
      "loading pN_50_0_620.dat\n",
      "loading pN_50_0_1010.dat\n",
      "loading pN_50_0_240.dat\n",
      "loading pS_50_0_1390.dat\n",
      "loading pS_50_0_380.dat\n",
      "loading pS_50_0_450.dat\n",
      "loading pS_50_0_200.dat\n",
      "loading pS_50_0_730.dat\n",
      "loading pS_50_0_280.dat\n",
      "loading pS_50_0_240.dat\n",
      "loading pS_50_0_860.dat\n",
      "loading pS_50_0_320.dat\n",
      "loading pS_50_0_1180.dat\n",
      "loading pS_50_0_620.dat\n",
      "loading pS_50_0_1010.dat\n"
     ]
    },
    {
     "data": {
      "text/plain": [
       "(array([ 0.,  0.,  0., ...,  0.,  0.,  0.]),\n",
       " array([ 0.,  0.,  0., ...,  0.,  0.,  0.]))"
      ]
     },
     "execution_count": 141,
     "metadata": {},
     "output_type": "execute_result"
    }
   ],
   "source": [
    "def sum_p_files(out_dir, lat, lon):\n",
    "    d = os.listdir(out_dir)\n",
    "    pNfiles = [x for x in d if x.startswith('pN_%d_%d'%(lat, lon))]\n",
    "    pSfiles = [x for x in d if x.startswith('pS_%d_%d'%(lat, lon))]\n",
    "        \n",
    "    pN = None\n",
    "    for x in pNfiles:\n",
    "        print \"loading %s\"%(x)\n",
    "        tmp = np.loadtxt(os.path.join(out_dir, x))\n",
    "        if pN is None:\n",
    "            pN = tmp\n",
    "        else:\n",
    "            pN += tmp\n",
    "            \n",
    "    pS = None\n",
    "    for x in pSfiles:\n",
    "        print \"loading %s\"%(x)\n",
    "        tmp = np.loadtxt(os.path.join(out_dir, x))\n",
    "        if pS is None:\n",
    "            pS = tmp\n",
    "        else:\n",
    "            pS += tmp\n",
    "    return pN, pS\n",
    "\n",
    "# out_dir   = '../outputs/test_WIPP_outs/'\n",
    "# out_lat   = 50\n",
    "# out_lon   = 0\n",
    "# out_freq  = 450\n",
    "# NUM_E = 512;\n",
    "# NUM_TIMES = 1000;\n",
    "\n",
    "# sum_p_files('../outputs/test_WIPP_outs/', out_lat, out_lon)\n",
    "\n"
   ]
  }
 ],
 "metadata": {
  "kernelspec": {
   "display_name": "Python 2",
   "language": "python",
   "name": "python2"
  },
  "language_info": {
   "codemirror_mode": {
    "name": "ipython",
    "version": 2
   },
   "file_extension": ".py",
   "mimetype": "text/x-python",
   "name": "python",
   "nbconvert_exporter": "python",
   "pygments_lexer": "ipython2",
   "version": "2.7.11"
  }
 },
 "nbformat": 4,
 "nbformat_minor": 0
}
